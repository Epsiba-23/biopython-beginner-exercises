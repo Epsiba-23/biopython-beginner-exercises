{
  "cells": [
    {
      "cell_type": "markdown",
      "metadata": {
        "id": "FXT71syPYtK3"
      },
      "source": [
        "#**EX_1: Sequence retrieval and manipulation**"
      ]
    },
    {
      "cell_type": "markdown",
      "source": [
        "###Installing Biopython"
      ],
      "metadata": {
        "id": "WTJdm5o6Tlnc"
      }
    },
    {
      "cell_type": "code",
      "execution_count": null,
      "metadata": {
        "colab": {
          "base_uri": "https://localhost:8080/"
        },
        "id": "mIZIlsRnXBLm",
        "outputId": "86d4423b-ef59-4afd-d606-ed11acb30418"
      },
      "outputs": [
        {
          "name": "stdout",
          "output_type": "stream",
          "text": [
            "Collecting biopython\n",
            "  Downloading biopython-1.84-cp310-cp310-manylinux_2_17_x86_64.manylinux2014_x86_64.whl.metadata (12 kB)\n",
            "Requirement already satisfied: numpy in /usr/local/lib/python3.10/dist-packages (from biopython) (1.26.4)\n",
            "Downloading biopython-1.84-cp310-cp310-manylinux_2_17_x86_64.manylinux2014_x86_64.whl (3.2 MB)\n",
            "\u001b[2K   \u001b[90m━━━━━━━━━━━━━━━━━━━━━━━━━━━━━━━━━━━━━━━━\u001b[0m \u001b[32m3.2/3.2 MB\u001b[0m \u001b[31m50.0 MB/s\u001b[0m eta \u001b[36m0:00:00\u001b[0m\n",
            "\u001b[?25hInstalling collected packages: biopython\n",
            "Successfully installed biopython-1.84\n"
          ]
        }
      ],
      "source": [
        "pip install biopython"
      ]
    },
    {
      "cell_type": "markdown",
      "source": [
        "###Mounting Google Drive in Colab\n",
        "\n",
        "To access files from your Google Drive in a Colab notebook, use the following code:"
      ],
      "metadata": {
        "id": "_h-7IkdMTtH6"
      }
    },
    {
      "cell_type": "code",
      "execution_count": null,
      "metadata": {
        "colab": {
          "background_save": true,
          "base_uri": "https://localhost:8080/",
          "height": 333
        },
        "id": "jOJs9PyMPCEo",
        "outputId": "05983daa-9802-41ab-cb12-04dc42b7ef2a"
      },
      "outputs": [
        {
          "name": "stdout",
          "output_type": "stream",
          "text": [
            "Mounted at /content/drive\n"
          ]
        }
      ],
      "source": [
        "from google.colab import drive\n",
        "drive.mount('/content/drive')"
      ]
    },
    {
      "cell_type": "markdown",
      "metadata": {
        "id": "csn68pr-RLyW"
      },
      "source": [
        "###Check if Biopython is installed and imported properly by printing a sample DNA and protein sequence."
      ]
    },
    {
      "cell_type": "code",
      "execution_count": null,
      "metadata": {
        "colab": {
          "base_uri": "https://localhost:8080/"
        },
        "id": "tvWioQIXQcah",
        "outputId": "cc5c3cdb-077f-43a5-e602-93935e257ebc"
      },
      "outputs": [
        {
          "name": "stdout",
          "output_type": "stream",
          "text": [
            "TGTGACTA\n",
            "MCVTEDSWL\n"
          ]
        }
      ],
      "source": [
        "#Load module from Biopython\n",
        "from Bio.Seq import Seq\n",
        "dna = Seq(\"TGTGACTA\")\n",
        "protein =Seq(\"MCVTEDSWL\")\n",
        "print(dna)\n",
        "print(protein)\n"
      ]
    },
    {
      "cell_type": "markdown",
      "source": [
        "####SeqIO is designed for reading (parsing), writing, and manipulating biological sequence data. It supports a wide range of file formats commonly used in bioinformatics, such as: FASTA, GenBank, EMBL, Phylip, NEXUS.\n",
        "\n",
        "####The Entrez module allows you to access and query various biological databases hosted by the National Center for Biotechnology Information (NCBI)"
      ],
      "metadata": {
        "id": "GOhABgJ3VTQU"
      }
    },
    {
      "cell_type": "code",
      "execution_count": null,
      "metadata": {
        "id": "-QJZpROLSIPs"
      },
      "outputs": [],
      "source": [
        "from Bio import Entrez\n",
        "from Bio import SeqIO"
      ]
    },
    {
      "cell_type": "markdown",
      "source": [
        "### Fetching Sequence Data from NCBI Using Biopython\n",
        "\n",
        "This code sets up an email (required by NCBI) and retrieves a nucleotide sequence in FASTA format from the **nuccore** database using the GI identifier. The sequence is then printed to the output.\n"
      ],
      "metadata": {
        "id": "Z49cuKW7YEJ7"
      }
    },
    {
      "cell_type": "code",
      "execution_count": null,
      "metadata": {
        "colab": {
          "base_uri": "https://localhost:8080/"
        },
        "id": "VvC0fdubTu1Q",
        "outputId": "772627dc-dfc6-4dfc-97c0-8e4298d9a7e6"
      },
      "outputs": [
        {
          "name": "stdout",
          "output_type": "stream",
          "text": [
            ">KC668274.1 Hordeum vulgare haplotype 16 LUX (LUX) gene, complete cds\n",
            "ATGGGGGAGGAGGCCGGCGGCTACGGTTTTGACTTCGGAGGATATGGTGGGTATGAAGGGAGGGTGACCG\n",
            "AGTGGGAGACGGGGCTGCCGGGGTGCGACGAGCTGACCCCGCTGTCTCAGCCGCTGGTGCCGCCGGGGCT\n",
            "CGCCGCCGCGTTCCGCATCCCGCCGGAGCCGGGGCGCACGCTTCTGGACGTGCACCGCGCGTCCTCCGCC\n",
            "ACCGTGTCCCGCCTCCGCTCCGCCTCCTCGTCCCCCTCCTCCGGCAACGCCCCCGCCACCGGCGGCTCCT\n",
            "TCCCGTCCTTCCCCGGCAAGTCGGCGGCCGGGGACGACAACAACAACAACAGCTCGGCCGAGTCGGCGGG\n",
            "GGAGAAGTCTGCCGCGGCGGCGACGAAGCGGGCGCGGCTGGTGTGGACGCCGCAGCTGCACAAGCGGTTC\n",
            "GTGGAGGTGGTGGCGCACCTGGGGATCAAGAGCGCCGTGCCCAAGACCATCATGCAGCTGATGAACGTGG\n",
            "AGGGGCTCACCCGCGAGAACGTCGCCAGCCACCTCCAGAAGTACCGCCTCTACGTCAAGCGGATGCAGGG\n",
            "CCTCTCCAACGAGGGGCCCTCCGCCTCCGACCACATCTTCGCCTCCACCCCCGTCCCCCACAGCCTCCGC\n",
            "GAGCCGCAGGTCCCCGTCCCGCACGCCGCCGCCATGGCCCCCGCCATGTACCACCACCACCCGGCCCCCA\n",
            "TGGGCGGCGTCGCCGCCGGCCACGGCGGCTACTACCAGCAGCAGCACAGCGCCCACGCCGTCTACAACGG\n",
            "CTACGGCGGCGGCGTCTCCTCCTACCCGCACTACCACCACGGCGACCAGTGA\n",
            "\n",
            "\n"
          ]
        }
      ],
      "source": [
        "#set email\n",
        "Entrez.email= 'example@gmail.com'\n",
        "\n",
        "#identifier- GI number\n",
        "#database- nuccore\n",
        "#handle=Entrez.efetch(db='nuccore', id='529158032')\n",
        "handle=Entrez.efetch(db='nuccore', id='529158032', rettype='fasta')\n",
        "print(handle.read())"
      ]
    },
    {
      "cell_type": "markdown",
      "source": [
        "### Fetching a Nucleotide Sequence in GenBank Format Using Accession Number\n",
        "\n",
        "This code fetches a nucleotide sequence from the **NCBI** database using an **accession number**. The data is retrieved in **GenBank format** by specifying `rettype='gb'`. To change the format to **FASTA**, simply modify the `rettype` parameter to `'fasta'`.\n",
        "\n"
      ],
      "metadata": {
        "id": "irExjpL5bFHo"
      }
    },
    {
      "cell_type": "code",
      "execution_count": null,
      "metadata": {
        "colab": {
          "base_uri": "https://localhost:8080/"
        },
        "id": "3BKLp8PJUAEw",
        "outputId": "02bcf0a0-e89b-4be1-e415-7ddd274a0c00"
      },
      "outputs": [
        {
          "name": "stdout",
          "output_type": "stream",
          "text": [
            "LOCUS       KC668274                 822 bp    DNA     linear   PLN 06-AUG-2013\n",
            "DEFINITION  Hordeum vulgare haplotype 16 LUX (LUX) gene, complete cds.\n",
            "ACCESSION   KC668274\n",
            "VERSION     KC668274.1\n",
            "KEYWORDS    .\n",
            "SOURCE      Hordeum vulgare\n",
            "  ORGANISM  Hordeum vulgare\n",
            "            Eukaryota; Viridiplantae; Streptophyta; Embryophyta; Tracheophyta;\n",
            "            Spermatophyta; Magnoliopsida; Liliopsida; Poales; Poaceae; BOP\n",
            "            clade; Pooideae; Triticodae; Triticeae; Hordeinae; Hordeum.\n",
            "REFERENCE   1  (bases 1 to 822)\n",
            "  AUTHORS   Campoli,C., Pankin,A., Drosse,B., Casao,C.M., Davis,S.J. and von\n",
            "            Korff,M.\n",
            "  TITLE     HvLUX1 is a candidate gene underlying the early maturity 10 locus\n",
            "            in barley: phylogeny, diversity, and interactions with the\n",
            "            circadian clock and photoperiodic pathways\n",
            "  JOURNAL   New Phytol. 199 (4), 1045-1059 (2013)\n",
            "   PUBMED   23731278\n",
            "REFERENCE   2  (bases 1 to 822)\n",
            "  AUTHORS   Pankin,A. and von Korff,M.\n",
            "  TITLE     Direct Submission\n",
            "  JOURNAL   Submitted (19-FEB-2013) Plant Developmental Biology, Max Planck\n",
            "            Institute for Plant Breeding Research, Carl-von-Linne-weg 10,\n",
            "            Cologne 50829, Germany\n",
            "COMMENT     ##Assembly-Data-START##\n",
            "            Sequencing Technology :: Sanger dideoxy sequencing\n",
            "            ##Assembly-Data-END##\n",
            "FEATURES             Location/Qualifiers\n",
            "     source          1..822\n",
            "                     /organism=\"Hordeum vulgare\"\n",
            "                     /mol_type=\"genomic DNA\"\n",
            "                     /db_xref=\"taxon:4513\"\n",
            "                     /haplotype=\"16\"\n",
            "     gene            <1..>822\n",
            "                     /gene=\"LUX\"\n",
            "     mRNA            <1..>822\n",
            "                     /gene=\"LUX\"\n",
            "                     /product=\"LUX\"\n",
            "     CDS             1..822\n",
            "                     /gene=\"LUX\"\n",
            "                     /note=\"MYB GARP domain transcription factor; circadian\n",
            "                     clock protein\"\n",
            "                     /codon_start=1\n",
            "                     /product=\"LUX\"\n",
            "                     /protein_id=\"AGS56024.1\"\n",
            "                     /translation=\"MGEEAGGYGFDFGGYGGYEGRVTEWETGLPGCDELTPLSQPLVP\n",
            "                     PGLAAAFRIPPEPGRTLLDVHRASSATVSRLRSASSSPSSGNAPATGGSFPSFPGKSA\n",
            "                     AGDDNNNNSSAESAGEKSAAAATKRARLVWTPQLHKRFVEVVAHLGIKSAVPKTIMQL\n",
            "                     MNVEGLTRENVASHLQKYRLYVKRMQGLSNEGPSASDHIFASTPVPHSLREPQVPVPH\n",
            "                     AAAMAPAMYHHHPAPMGGVAAGHGGYYQQQHSAHAVYNGYGGGVSSYPHYHHGDQ\"\n",
            "ORIGIN      \n",
            "        1 atgggggagg aggccggcgg ctacggtttt gacttcggag gatatggtgg gtatgaaggg\n",
            "       61 agggtgaccg agtgggagac ggggctgccg gggtgcgacg agctgacccc gctgtctcag\n",
            "      121 ccgctggtgc cgccggggct cgccgccgcg ttccgcatcc cgccggagcc ggggcgcacg\n",
            "      181 cttctggacg tgcaccgcgc gtcctccgcc accgtgtccc gcctccgctc cgcctcctcg\n",
            "      241 tccccctcct ccggcaacgc ccccgccacc ggcggctcct tcccgtcctt ccccggcaag\n",
            "      301 tcggcggccg gggacgacaa caacaacaac agctcggccg agtcggcggg ggagaagtct\n",
            "      361 gccgcggcgg cgacgaagcg ggcgcggctg gtgtggacgc cgcagctgca caagcggttc\n",
            "      421 gtggaggtgg tggcgcacct ggggatcaag agcgccgtgc ccaagaccat catgcagctg\n",
            "      481 atgaacgtgg aggggctcac ccgcgagaac gtcgccagcc acctccagaa gtaccgcctc\n",
            "      541 tacgtcaagc ggatgcaggg cctctccaac gaggggccct ccgcctccga ccacatcttc\n",
            "      601 gcctccaccc ccgtccccca cagcctccgc gagccgcagg tccccgtccc gcacgccgcc\n",
            "      661 gccatggccc ccgccatgta ccaccaccac ccggccccca tgggcggcgt cgccgccggc\n",
            "      721 cacggcggct actaccagca gcagcacagc gcccacgccg tctacaacgg ctacggcggc\n",
            "      781 ggcgtctcct cctacccgca ctaccaccac ggcgaccagt ga\n",
            "//\n",
            "\n",
            "\n"
          ]
        }
      ],
      "source": [
        "#identifier- Accession number\n",
        "#database- nucleotide\n",
        "#handle=Entrez.efetch(db='nucleotide', id='NM_033497.3', rettype='fasta')\n",
        "#for fetching from genbank just change the return type that is rettype='gb'\n",
        "handle=Entrez.efetch(db='nucleotide', id=' KC668274.1', rettype='gb')\n",
        "print(handle.read())\n",
        "#Change the format to Genbank and view the sequence"
      ]
    },
    {
      "cell_type": "markdown",
      "metadata": {
        "id": "SVuzJraIZuDM"
      },
      "source": [
        "Explore the sequence features and download\n",
        "\n",
        "### Fetching a Nucleotide Sequence as Text and Parsing with Biopython\n",
        "\n",
        "This code retrieves a nucleotide sequence in **FASTA format** from NCBI’s **nucleotide** database using the accession number. By specifying `retmode='text'`, the data is returned in plain text format. The **SeqIO.read()** function is then used to parse the FASTA sequence for easier manipulation and viewing in a structured way.\n"
      ]
    },
    {
      "cell_type": "code",
      "execution_count": null,
      "metadata": {
        "colab": {
          "base_uri": "https://localhost:8080/"
        },
        "id": "I-rXkasYUpM3",
        "outputId": "ab99456c-a151-4b4e-d576-bede4fd73d12"
      },
      "outputs": [
        {
          "name": "stdout",
          "output_type": "stream",
          "text": [
            "ID: KC668274.1\n",
            "Name: KC668274.1\n",
            "Description: KC668274.1 Hordeum vulgare haplotype 16 LUX (LUX) gene, complete cds\n",
            "Number of features: 0\n",
            "Seq('ATGGGGGAGGAGGCCGGCGGCTACGGTTTTGACTTCGGAGGATATGGTGGGTAT...TGA')\n"
          ]
        }
      ],
      "source": [
        "#download as text file so retmode ='text'\n",
        "#the previous code gave us the fasta format this below code gives us the information in read mode with simpler way\n",
        "handle=Entrez.efetch(db='nucleotide', id=' KC668274.1', rettype='fasta', retmode='text')\n",
        "gene= SeqIO.read(handle,'fasta')\n",
        "print(gene)"
      ]
    },
    {
      "cell_type": "markdown",
      "source": [
        "### Accessing and Printing Sequence Details from a FASTA File\n",
        "\n",
        "This code fetches a nucleotide sequence in **FASTA format**, and using Biopython's `SeqIO.read()` function, it prints specific details from the parsed sequence:\n",
        "- **gene.id**: The unique identifier of the sequence.\n",
        "- **gene.description**: A brief description of the sequence.\n",
        "- **gene.seq**: The actual nucleotide sequence.\n",
        "- **len(gene.seq)**: The length of the nucleotide sequence.\n",
        "- **gene.features**: Any additional features associated with the sequence (usually empty in FASTA format).\n"
      ],
      "metadata": {
        "id": "0G-JHAaVb9j8"
      }
    },
    {
      "cell_type": "code",
      "execution_count": null,
      "metadata": {
        "colab": {
          "base_uri": "https://localhost:8080/"
        },
        "id": "S8GwIx4bU-gh",
        "outputId": "ae25effe-3104-4523-8043-789314d9f6fa"
      },
      "outputs": [
        {
          "name": "stdout",
          "output_type": "stream",
          "text": [
            "KC668274.1\n",
            "KC668274.1 Hordeum vulgare haplotype 16 LUX (LUX) gene, complete cds\n",
            "ATGGGGGAGGAGGCCGGCGGCTACGGTTTTGACTTCGGAGGATATGGTGGGTATGAAGGGAGGGTGACCGAGTGGGAGACGGGGCTGCCGGGGTGCGACGAGCTGACCCCGCTGTCTCAGCCGCTGGTGCCGCCGGGGCTCGCCGCCGCGTTCCGCATCCCGCCGGAGCCGGGGCGCACGCTTCTGGACGTGCACCGCGCGTCCTCCGCCACCGTGTCCCGCCTCCGCTCCGCCTCCTCGTCCCCCTCCTCCGGCAACGCCCCCGCCACCGGCGGCTCCTTCCCGTCCTTCCCCGGCAAGTCGGCGGCCGGGGACGACAACAACAACAACAGCTCGGCCGAGTCGGCGGGGGAGAAGTCTGCCGCGGCGGCGACGAAGCGGGCGCGGCTGGTGTGGACGCCGCAGCTGCACAAGCGGTTCGTGGAGGTGGTGGCGCACCTGGGGATCAAGAGCGCCGTGCCCAAGACCATCATGCAGCTGATGAACGTGGAGGGGCTCACCCGCGAGAACGTCGCCAGCCACCTCCAGAAGTACCGCCTCTACGTCAAGCGGATGCAGGGCCTCTCCAACGAGGGGCCCTCCGCCTCCGACCACATCTTCGCCTCCACCCCCGTCCCCCACAGCCTCCGCGAGCCGCAGGTCCCCGTCCCGCACGCCGCCGCCATGGCCCCCGCCATGTACCACCACCACCCGGCCCCCATGGGCGGCGTCGCCGCCGGCCACGGCGGCTACTACCAGCAGCAGCACAGCGCCCACGCCGTCTACAACGGCTACGGCGGCGGCGTCTCCTCCTACCCGCACTACCACCACGGCGACCAGTGA\n",
            "822\n",
            "[]\n"
          ]
        }
      ],
      "source": [
        "#printing some of the output from the file downloaded.\n",
        "print(gene.id)\n",
        "print(gene.description)\n",
        "print(gene.seq)\n",
        "print(len(gene.seq))\n",
        "print(gene.features)"
      ]
    },
    {
      "cell_type": "markdown",
      "source": [
        "### Saving the Fetched Sequence to Google Drive as a FASTA File\n",
        "\n",
        "This code demonstrates how to save a nucleotide sequence fetched using Biopython’s `Entrez.efetch()` function to a file on **Google Drive**. The file is saved in **FASTA format** using Biopython’s `SeqIO.write()` function.\n",
        "\n",
        "gene: This is the sequence object (parsed from the SeqIO.read() function earlier). It contains the sequence data that we want to write to a file.\n",
        "out: This is the file object created with open(), which refers to the file where the sequence will be written. In your case, it's the file located at '/content/drive/MyDrive/lux.fasta'.\n",
        "'fasta': This is the format in which the sequence will be written. In this case, it's the FASTA format, a common format for representing nucleotide or protein sequences.\n",
        "The SeqIO.write() function is writing the gene sequence to the file in FASTA format."
      ],
      "metadata": {
        "id": "o_1QQh1ccZbR"
      }
    },
    {
      "cell_type": "code",
      "execution_count": null,
      "metadata": {
        "id": "XbMU4vMgitz3"
      },
      "outputs": [],
      "source": [
        "#file handling function- to open the file from the entrez.\n",
        "#the file can be loaded to the drive.\n",
        "out=open('/content/drive/MyDrive/example/lux.fasta', 'w')\n",
        "SeqIO.write(gene,out,'fasta')\n",
        "out.close()"
      ]
    },
    {
      "cell_type": "markdown",
      "metadata": {
        "id": "IUym4xOjjmnI"
      },
      "source": [
        "#Exercise1: Retrieve and download multiple sequences with the following accessions ids:\n",
        "'NM_000188.3', 'NM_001322365.2', 'NM_033496.3', 'NM_001322364.2', 'NM_033498.3', 'NM_001358263.1', 'NM_001322367.1', 'NM_001322366.1', 'NM_033500.2'\n",
        "\n"
      ]
    },
    {
      "cell_type": "markdown",
      "source": [
        "### Fetching Multiple Sequences from NCBI and Storing in a List\n",
        "\n",
        "This code demonstrates how to fetch multiple nucleotide sequences from the **NCBI nucleotide database** using a list of accession numbers. The sequences are retrieved in **FASTA format** and parsed using Biopython's `SeqIO.parse()` function. All sequences are appended to a list called `all_genes`, and the total number of sequences fetched is verified using the `len()` function.\n"
      ],
      "metadata": {
        "id": "QZ929gFPdccK"
      }
    },
    {
      "cell_type": "code",
      "execution_count": null,
      "metadata": {
        "colab": {
          "base_uri": "https://localhost:8080/"
        },
        "id": "7hm-tojRSNR8",
        "outputId": "d4d6b875-447a-46f7-ab59-a6c80acbfaf9"
      },
      "outputs": [
        {
          "data": {
            "text/plain": [
              "9"
            ]
          },
          "execution_count": 10,
          "metadata": {},
          "output_type": "execute_result"
        }
      ],
      "source": [
        "ids = ['NM_000188.3', 'NM_001322365.2', 'NM_033496.3', 'NM_001322364.2', 'NM_033498.3', 'NM_001358263.1', 'NM_001322367.1', 'NM_001322366.1', 'NM_033500.2']\n",
        "Entrez.email= 'epsibashurly@gmail.com'\n",
        "handle=Entrez.efetch(db='nucleotide', id=ids, rettype='fasta', retmode='text')\n",
        "gene= SeqIO.parse(handle,'fasta')\n",
        "#print(gene)\n",
        "#appending the all genes to the all_genes\n",
        "all_genes= [i for i in gene]\n",
        "#to check if the all 9 gene are included in all_genes use length funciton len function\n",
        "len(all_genes)"
      ]
    },
    {
      "cell_type": "markdown",
      "source": [
        "### Printing the Description and Sequence Length of Each Gene\n",
        "\n",
        "This code iterates through the list of parsed sequences (`all_genes`) and prints two key details for each gene:\n",
        "- **i.description**: The description of the gene, which typically includes the accession number and a brief annotation.\n",
        "- **len(i.seq)**: The length of the nucleotide sequence for each gene.\n"
      ],
      "metadata": {
        "id": "SQBtVi2mdr7T"
      }
    },
    {
      "cell_type": "code",
      "execution_count": null,
      "metadata": {
        "colab": {
          "base_uri": "https://localhost:8080/"
        },
        "id": "gP31s74ClliO",
        "outputId": "e965663c-8540-481f-a931-5faa7d93dfea"
      },
      "outputs": [
        {
          "name": "stdout",
          "output_type": "stream",
          "text": [
            "NM_000188.3 Homo sapiens hexokinase 1 (HK1), transcript variant 1, mRNA\n",
            "3602\n",
            "NM_001322365.2 Homo sapiens hexokinase 1 (HK1), transcript variant 7, mRNA\n",
            "3995\n",
            "NM_033496.3 Homo sapiens hexokinase 1 (HK1), transcript variant 2, mRNA\n",
            "3684\n",
            "NM_001322364.2 Homo sapiens hexokinase 1 (HK1), transcript variant 6, mRNA\n",
            "3690\n",
            "NM_033498.3 Homo sapiens hexokinase 1 (HK1), transcript variant 4, mRNA\n",
            "3866\n",
            "NM_001358263.1 Homo sapiens hexokinase 1 (HK1), transcript variant 10, mRNA\n",
            "3998\n",
            "NM_001322367.1 Homo sapiens hexokinase 1 (HK1), transcript variant 9, mRNA\n",
            "3506\n",
            "NM_001322366.1 Homo sapiens hexokinase 1 (HK1), transcript variant 8, mRNA\n",
            "3493\n",
            "NM_033500.2 Homo sapiens hexokinase 1 (HK1), transcript variant 5, mRNA\n",
            "3979\n"
          ]
        }
      ],
      "source": [
        "for i in all_genes:\n",
        "  print(i.description)\n",
        "  print(len(i.seq))"
      ]
    },
    {
      "cell_type": "markdown",
      "source": [],
      "metadata": {
        "id": "CVS6v4NIeB3q"
      }
    },
    {
      "cell_type": "markdown",
      "source": [
        "### Saving Multiple Fetched Sequences to a FASTA File on Google Drive\n",
        "\n",
        "This code saves the nucleotide sequences from the `all_genes` list to a **FASTA file** in **Google Drive**. Using a loop, each gene is written to the file in FASTA format with the `SeqIO.write()` function. After all sequences are saved, the file is closed.\n"
      ],
      "metadata": {
        "id": "8QyXwkWzd25C"
      }
    },
    {
      "cell_type": "code",
      "execution_count": null,
      "metadata": {
        "id": "kdvLSIatlrpa"
      },
      "outputs": [],
      "source": [
        "out=open('/content/drive/MyDrive/example/all_hxks.fasta', 'w')\n",
        "for i in all_genes:\n",
        "  SeqIO.write(i,out,'fasta')\n",
        "out.close()"
      ]
    },
    {
      "cell_type": "markdown",
      "source": [
        "#exercise:2"
      ],
      "metadata": {
        "id": "DGRwl4VseMqg"
      }
    },
    {
      "cell_type": "code",
      "execution_count": null,
      "metadata": {
        "colab": {
          "base_uri": "https://localhost:8080/"
        },
        "id": "V1t1tIjnmASa",
        "outputId": "7ffb7d78-aee8-4c32-8fc0-43d1841282bc"
      },
      "outputs": [
        {
          "data": {
            "text/plain": [
              "6"
            ]
          },
          "execution_count": 17,
          "metadata": {},
          "output_type": "execute_result"
        }
      ],
      "source": [
        "ids = ['KC668274.1','KC668273.1','KC668272.1','KC668271.1', 'KC668270.1','KC668269.1']\n",
        "Entrez.email= 'epsibashurly@gmail.com'\n",
        "handle=Entrez.efetch(db='nucleotide', id=ids, rettype='fasta', retmode='text')\n",
        "gene= SeqIO.parse(handle,'fasta')\n",
        "#print(gene)\n",
        "#appending the all genes to the all_genes\n",
        "all_genes= [i for i in gene]\n",
        "#to check if the all 9 gene are included in all_genes use length funciton len function\n",
        "len(all_genes)"
      ]
    },
    {
      "cell_type": "markdown",
      "metadata": {
        "id": "O8dHRJUjpTc4"
      },
      "source": [
        "## Exercise:2a\n",
        "Print the description and sequence length of all the genes retrieved from NCBI using their accession numbers.\n",
        "\n",
        "Save all the sequences in a multi-FASTA file in the specified directory (Google Drive or local storage)."
      ]
    },
    {
      "cell_type": "code",
      "execution_count": null,
      "metadata": {
        "colab": {
          "base_uri": "https://localhost:8080/"
        },
        "id": "lwAfepBoqsmP",
        "outputId": "afb6e5fd-b78d-4df3-d5d0-ddee5df83e59"
      },
      "outputs": [
        {
          "name": "stdout",
          "output_type": "stream",
          "text": [
            "KC668274.1 Hordeum vulgare haplotype 16 LUX (LUX) gene, complete cds\n",
            "822\n",
            "KC668273.1 Hordeum vulgare haplotype 15 LUX (LUX) gene, complete cds\n",
            "840\n",
            "KC668272.1 Hordeum vulgare haplotype 14 LUX (LUX) gene, complete cds\n",
            "825\n",
            "KC668271.1 Hordeum vulgare haplotype 13 LUX (LUX) gene, complete cds\n",
            "825\n",
            "KC668270.1 Hordeum vulgare haplotype 12 LUX (LUX) gene, complete cds\n",
            "834\n",
            "KC668269.1 Hordeum vulgare haplotype 11 LUX (LUX) gene, complete cds\n",
            "834\n"
          ]
        }
      ],
      "source": [
        "for i in all_genes:\n",
        "  print(i.description)\n",
        "  print(len(i.seq))"
      ]
    },
    {
      "cell_type": "markdown",
      "source": [
        "### Saving Retrieved Sequences to a Multi-FASTA File\n",
        "\n",
        "This code snippet saves all nucleotide sequences stored in the `all_genes` list to a **multi-FASTA file** named `all_lux.fasta` in **Google Drive**. Each sequence is written to the file using the `SeqIO.write()` function, allowing for easy access and sharing of multiple sequences in a single file format.\n"
      ],
      "metadata": {
        "id": "zSggKVm8fY1M"
      }
    },
    {
      "cell_type": "code",
      "execution_count": null,
      "metadata": {
        "id": "4EfaYk_Uoyb7"
      },
      "outputs": [],
      "source": [
        "out=open('/content/drive/MyDrive/example/all_lux.fasta', 'w')\n",
        "for i in all_genes:\n",
        "  SeqIO.write(i,out,'fasta')\n",
        "out.close()"
      ]
    },
    {
      "cell_type": "markdown",
      "source": [
        "### Reading and Parsing a Multi-FASTA File\n",
        "\n",
        "This code utilizes the `SeqIO.parse()` function from Biopython to read a multi-FASTA file named `all_hxks.fasta`. It retrieves the first sequence from the file and prints its **ID** and **nucleotide sequence**. Additionally, the type of the sequence object is printed to confirm it as a `Seq` object.\n",
        "\n",
        "- **`j.id`**: Displays the unique identifier of the sequence.\n",
        "- **`j.seq`**: Displays the actual nucleotide sequence.\n",
        "- **`type(j)`**: Confirms the type of the sequence object.\n"
      ],
      "metadata": {
        "id": "G_ddHwP7fssa"
      }
    },
    {
      "cell_type": "code",
      "execution_count": null,
      "metadata": {
        "colab": {
          "base_uri": "https://localhost:8080/"
        },
        "id": "6DMWfyrnz5oC",
        "outputId": "9dffddf8-af6d-4ff9-e9ba-ee1bcc1b79ca"
      },
      "outputs": [
        {
          "name": "stdout",
          "output_type": "stream",
          "text": [
            "NM_000188.3\n",
            "GAGGAGGAGCCGCCGAGCAGCCGCCGGAGGACCACGGCTCGCCAGGGCTGCGGAGGACCGACCGTCCCCACGCCTGCCGCCCCGCGACCCCGACCGCCAGCATGATCGCCGCGCAGCTCCTGGCCTATTACTTCACGGAGCTGAAGGATGACCAGGTCAAAAAGATTGACAAGTATCTCTATGCCATGCGGCTCTCCGATGAAACTCTCATAGATATCATGACTCGCTTCAGGAAGGAGATGAAGAATGGCCTCTCCCGGGATTTTAATCCAACAGCCACAGTCAAGATGTTGCCAACATTCGTAAGGTCCATTCCTGATGGCTCTGAAAAGGGAGATTTCATTGCCCTGGATCTTGGTGGGTCTTCCTTTCGAATTCTGCGGGTGCAAGTGAATCATGAGAAAAACCAGAATGTTCACATGGAGTCCGAGGTTTATGACACCCCAGAGAACATCGTGCACGGCAGTGGAAGCCAGCTTTTTGATCATGTTGCTGAGTGCCTGGGAGATTTCATGGAGAAAAGGAAGATCAAGGACAAGAAGTTACCTGTGGGATTCACGTTTTCTTTTCCTTGCCAACAATCCAAAATAGATGAGGCCATCCTGATCACCTGGACAAAGCGATTTAAAGCGAGCGGAGTGGAAGGAGCAGATGTGGTCAAACTGCTTAACAAAGCCATCAAAAAGCGAGGGGACTATGATGCCAACATCGTAGCTGTGGTGAATGACACAGTGGGCACCATGATGACCTGTGGCTATGACGACCAGCACTGTGAAGTCGGCCTGATCATCGGCACTGGCACCAATGCTTGCTACATGGAGGAACTGAGGCACATTGATCTGGTGGAAGGAGACGAGGGGAGGATGTGTATCAATACAGAATGGGGAGCCTTTGGAGACGATGGATCATTAGAAGACATCCGGACAGAGTTTGACAGGGAGATAGACCGGGGATCCCTCAACCCTGGAAAACAGCTGTTTGAGAAGATGGTCAGTGGCATGTACTTGGGAGAGCTGGTTCGACTGATCCTAGTCAAGATGGCCAAGGAGGGCCTCTTATTTGAAGGGCGGATCACCCCGGAGCTGCTCACCCGAGGGAAGTTTAACACCAGTGATGTGTCAGCCATCGAAAAGAATAAGGAAGGCCTCCACAATGCCAAAGAAATCCTGACCCGCCTGGGAGTGGAGCCGTCCGATGATGACTGTGTCTCAGTCCAGCACGTTTGCACCATTGTCTCATTTCGCTCAGCCAACTTGGTGGCTGCCACACTGGGCGCCATCTTGAACCGCCTGCGTGATAACAAGGGCACACCCAGGCTGCGGACCACGGTTGGTGTCGACGGATCTCTTTACAAGACGCACCCACAGTATTCCCGGCGTTTCCACAAGACTCTAAGGCGCTTGGTGCCAGACTCCGATGTGCGCTTCCTCCTCTCGGAGAGTGGCAGCGGCAAGGGGGCTGCCATGGTGACGGCGGTGGCCTACCGCTTGGCCGAGCAGCACCGGCAGATAGAGGAGACCCTGGCTCATTTCCACCTCACCAAGGACATGCTGCTGGAGGTGAAGAAGAGGATGCGGGCCGAGATGGAGCTGGGGCTGAGGAAGCAGACGCACAACAATGCCGTGGTTAAGATGCTGCCCTCCTTCGTCCGGAGAACTCCCGACGGGACCGAGAATGGTGACTTCTTGGCCCTGGATCTTGGAGGAACCAATTTCCGTGTGCTGCTGGTGAAAATCCGTAGTGGGAAAAAGAGAACGGTGGAAATGCACAACAAGATCTACGCCATTCCTATTGAAATCATGCAGGGCACTGGGGAAGAGCTGTTTGATCACATTGTCTCCTGCATCTCTGACTTCTTGGACTACATGGGGATCAAAGGCCCCAGGATGCCTCTGGGCTTCACGTTCTCATTTCCCTGCCAGCAGACGAGTCTGGACGCGGGAATCTTGATCACGTGGACAAAGGGTTTTAAGGCAACAGACTGCGTGGGCCACGATGTAGTCACCTTACTAAGGGATGCGATAAAAAGGAGAGAGGAATTTGACCTGGACGTGGTGGCTGTGGTCAACGACACAGTGGGCACCATGATGACCTGTGCTTATGAGGAGCCCACCTGTGAGGTTGGACTCATTGTTGGGACCGGCAGCAATGCCTGCTACATGGAGGAGATGAAGAACGTGGAGATGGTGGAGGGGGACCAGGGGCAGATGTGCATCAACATGGAGTGGGGGGCCTTTGGGGACAACGGGTGTCTGGATGATATCAGGACACACTACGACAGACTGGTGGACGAATATTCCCTAAATGCTGGGAAACAAAGGTATGAGAAGATGATCAGTGGTATGTACCTGGGTGAAATCGTCCGCAACATCTTAATCGACTTCACCAAGAAGGGATTCCTCTTCCGAGGGCAGATCTCTGAGACGCTGAAGACCCGGGGCATCTTTGAGACCAAGTTTCTCTCTCAGATCGAGAGTGACCGATTAGCACTGCTCCAGGTCCGGGCTATCCTCCAGCAGCTAGGTCTGAATAGCACCTGCGATGACAGTATCCTCGTCAAGACAGTGTGCGGGGTGGTGTCCAGGAGGGCCGCACAGCTGTGTGGCGCAGGCATGGCTGCGGTTGTGGATAAGATCCGCGAGAACAGAGGACTGGACCGTCTGAATGTGACTGTGGGAGTGGACGGGACACTCTACAAGCTTCATCCACACTTCTCCAGAATCATGCACCAGACGGTGAAGGAACTGTCACCAAAATGTAACGTGTCCTTCCTCCTGTCTGAGGATGGCAGCGGCAAGGGGGCCGCCCTCATCACGGCCGTGGGCGTGCGGTTACGCACAGAGGCAAGCAGCTAAGAGTCCGGGATCCCCAGCCTACTGCCTCTCCAGCACTTCTCTCTTCAAGCGGCGACCCCCTACCCTCCCAGCGAGTTGCGCTGGGAGACGCTGGCGCCAGGGCCTGCCGGCGCGGGGAGGAAAGCAAAATCCAACTAATGGTATATATTGTAGGGTACAGAATAGAGCGTGTGCTGTTGATAATATCTCTCACCCGGATCCCTCCTCACTTGCCCTGCCACTTTGCATGGTTTGATTTTGACCTGGTCCCCCACGTGTGAAGTGTAGTGGCATCCATTTCTAATGTATGCATTCATCCAACAGAGTTATTTATTGGCTGGAGATGGAAAATCACACCACCTGACAGGCCTTCTGGGCCTCCAAAGCCCATCCTTGGGGTTCCCCCTCCCTGTGTGAAATGTATTATCACCAGCAGACACTGCCGGGCCTCCCTCCCGGGGGCACTGCCTGAAGGCGAGTGTGGGCATAGCATTAGCTGCTTCCTCCCCTCCTGGCACCCACTGTGGCCTGGCATCGCATCGTGGTGTGTCAATGCCACAAAATCGTGTGTCCGTGGAACCAGTCCTAGCCGCGTGTGACAGTCTTGCATTCTGTTTGTCTCGTGGGGGGAGGTGGACAGTCCTGCGGAAATGTGTCTTGTCTCCATTTGGATAAAAGGAACCAACCAACAAACAATGCCATCACTGGAATTTCCCACCGCTTTGTGAGCCGTGTCGTATGACCTAGTAAACTTTGTACCAATTCAAA\n",
            "<class 'Bio.SeqRecord.SeqRecord'>\n"
          ]
        }
      ],
      "source": [
        "#function parse - to read the file\n",
        "from Bio.Seq import Seq\n",
        "for sequence in SeqIO.parse(\"/content/drive/MyDrive/Biopython_Garden_City/all_hxks.fasta\",'fasta'):\n",
        "  j=sequence\n",
        "  break\n",
        "print(j.id)\n",
        "print(j.seq)\n",
        "#for knwoing the lenght the sequence.\n",
        "#print(len(j.seq))\n",
        "print(type(j))"
      ]
    },
    {
      "cell_type": "markdown",
      "source": [
        "### Transcribing and Translating a Nucleotide Sequence\n",
        "\n",
        "This code demonstrates how to use Biopython's **Seq** class methods to transcribe and translate a nucleotide sequence. The operations performed are as follows:\n",
        "\n",
        "- **`print(j)`**: Displays the original nucleotide sequence.\n",
        "- **`j.seq.transcribe()`**: Converts the nucleotide sequence to its corresponding **mRNA** sequence.\n",
        "- **`j.translate(to_stop=True)`**: Translates the entire mRNA sequence into a protein sequence, stopping at the first stop codon.\n",
        "- **`j[1:].translate(to_stop=True)`**: Translates the mRNA sequence starting from the second nucleotide, effectively producing a different protein sequence.\n",
        "- **`j[2:].translate(to_stop=True)`**: Translates the mRNA sequence starting from the third nucleotide, resulting in yet another variant of the protein sequence.\n",
        "\n",
        "These methods showcase how to manipulate and analyze genetic sequences using Biopython.\n"
      ],
      "metadata": {
        "id": "vZoHbb39f4vh"
      }
    },
    {
      "cell_type": "code",
      "execution_count": null,
      "metadata": {
        "colab": {
          "base_uri": "https://localhost:8080/"
        },
        "id": "-8uh7I5i2NR-",
        "outputId": "a2b49dee-1cb5-4800-9707-5ea47f9d0567"
      },
      "outputs": [
        {
          "name": "stdout",
          "output_type": "stream",
          "text": [
            "ID: NM_000188.3\n",
            "Name: NM_000188.3\n",
            "Description: NM_000188.3 Homo sapiens hexokinase 1 (HK1), transcript variant 1, mRNA\n",
            "Number of features: 0\n",
            "Seq('GAGGAGGAGCCGCCGAGCAGCCGCCGGAGGACCACGGCTCGCCAGGGCTGCGGA...AAA')\n",
            "GAGGAGGAGCCGCCGAGCAGCCGCCGGAGGACCACGGCUCGCCAGGGCUGCGGAGGACCGACCGUCCCCACGCCUGCCGCCCCGCGACCCCGACCGCCAGCAUGAUCGCCGCGCAGCUCCUGGCCUAUUACUUCACGGAGCUGAAGGAUGACCAGGUCAAAAAGAUUGACAAGUAUCUCUAUGCCAUGCGGCUCUCCGAUGAAACUCUCAUAGAUAUCAUGACUCGCUUCAGGAAGGAGAUGAAGAAUGGCCUCUCCCGGGAUUUUAAUCCAACAGCCACAGUCAAGAUGUUGCCAACAUUCGUAAGGUCCAUUCCUGAUGGCUCUGAAAAGGGAGAUUUCAUUGCCCUGGAUCUUGGUGGGUCUUCCUUUCGAAUUCUGCGGGUGCAAGUGAAUCAUGAGAAAAACCAGAAUGUUCACAUGGAGUCCGAGGUUUAUGACACCCCAGAGAACAUCGUGCACGGCAGUGGAAGCCAGCUUUUUGAUCAUGUUGCUGAGUGCCUGGGAGAUUUCAUGGAGAAAAGGAAGAUCAAGGACAAGAAGUUACCUGUGGGAUUCACGUUUUCUUUUCCUUGCCAACAAUCCAAAAUAGAUGAGGCCAUCCUGAUCACCUGGACAAAGCGAUUUAAAGCGAGCGGAGUGGAAGGAGCAGAUGUGGUCAAACUGCUUAACAAAGCCAUCAAAAAGCGAGGGGACUAUGAUGCCAACAUCGUAGCUGUGGUGAAUGACACAGUGGGCACCAUGAUGACCUGUGGCUAUGACGACCAGCACUGUGAAGUCGGCCUGAUCAUCGGCACUGGCACCAAUGCUUGCUACAUGGAGGAACUGAGGCACAUUGAUCUGGUGGAAGGAGACGAGGGGAGGAUGUGUAUCAAUACAGAAUGGGGAGCCUUUGGAGACGAUGGAUCAUUAGAAGACAUCCGGACAGAGUUUGACAGGGAGAUAGACCGGGGAUCCCUCAACCCUGGAAAACAGCUGUUUGAGAAGAUGGUCAGUGGCAUGUACUUGGGAGAGCUGGUUCGACUGAUCCUAGUCAAGAUGGCCAAGGAGGGCCUCUUAUUUGAAGGGCGGAUCACCCCGGAGCUGCUCACCCGAGGGAAGUUUAACACCAGUGAUGUGUCAGCCAUCGAAAAGAAUAAGGAAGGCCUCCACAAUGCCAAAGAAAUCCUGACCCGCCUGGGAGUGGAGCCGUCCGAUGAUGACUGUGUCUCAGUCCAGCACGUUUGCACCAUUGUCUCAUUUCGCUCAGCCAACUUGGUGGCUGCCACACUGGGCGCCAUCUUGAACCGCCUGCGUGAUAACAAGGGCACACCCAGGCUGCGGACCACGGUUGGUGUCGACGGAUCUCUUUACAAGACGCACCCACAGUAUUCCCGGCGUUUCCACAAGACUCUAAGGCGCUUGGUGCCAGACUCCGAUGUGCGCUUCCUCCUCUCGGAGAGUGGCAGCGGCAAGGGGGCUGCCAUGGUGACGGCGGUGGCCUACCGCUUGGCCGAGCAGCACCGGCAGAUAGAGGAGACCCUGGCUCAUUUCCACCUCACCAAGGACAUGCUGCUGGAGGUGAAGAAGAGGAUGCGGGCCGAGAUGGAGCUGGGGCUGAGGAAGCAGACGCACAACAAUGCCGUGGUUAAGAUGCUGCCCUCCUUCGUCCGGAGAACUCCCGACGGGACCGAGAAUGGUGACUUCUUGGCCCUGGAUCUUGGAGGAACCAAUUUCCGUGUGCUGCUGGUGAAAAUCCGUAGUGGGAAAAAGAGAACGGUGGAAAUGCACAACAAGAUCUACGCCAUUCCUAUUGAAAUCAUGCAGGGCACUGGGGAAGAGCUGUUUGAUCACAUUGUCUCCUGCAUCUCUGACUUCUUGGACUACAUGGGGAUCAAAGGCCCCAGGAUGCCUCUGGGCUUCACGUUCUCAUUUCCCUGCCAGCAGACGAGUCUGGACGCGGGAAUCUUGAUCACGUGGACAAAGGGUUUUAAGGCAACAGACUGCGUGGGCCACGAUGUAGUCACCUUACUAAGGGAUGCGAUAAAAAGGAGAGAGGAAUUUGACCUGGACGUGGUGGCUGUGGUCAACGACACAGUGGGCACCAUGAUGACCUGUGCUUAUGAGGAGCCCACCUGUGAGGUUGGACUCAUUGUUGGGACCGGCAGCAAUGCCUGCUACAUGGAGGAGAUGAAGAACGUGGAGAUGGUGGAGGGGGACCAGGGGCAGAUGUGCAUCAACAUGGAGUGGGGGGCCUUUGGGGACAACGGGUGUCUGGAUGAUAUCAGGACACACUACGACAGACUGGUGGACGAAUAUUCCCUAAAUGCUGGGAAACAAAGGUAUGAGAAGAUGAUCAGUGGUAUGUACCUGGGUGAAAUCGUCCGCAACAUCUUAAUCGACUUCACCAAGAAGGGAUUCCUCUUCCGAGGGCAGAUCUCUGAGACGCUGAAGACCCGGGGCAUCUUUGAGACCAAGUUUCUCUCUCAGAUCGAGAGUGACCGAUUAGCACUGCUCCAGGUCCGGGCUAUCCUCCAGCAGCUAGGUCUGAAUAGCACCUGCGAUGACAGUAUCCUCGUCAAGACAGUGUGCGGGGUGGUGUCCAGGAGGGCCGCACAGCUGUGUGGCGCAGGCAUGGCUGCGGUUGUGGAUAAGAUCCGCGAGAACAGAGGACUGGACCGUCUGAAUGUGACUGUGGGAGUGGACGGGACACUCUACAAGCUUCAUCCACACUUCUCCAGAAUCAUGCACCAGACGGUGAAGGAACUGUCACCAAAAUGUAACGUGUCCUUCCUCCUGUCUGAGGAUGGCAGCGGCAAGGGGGCCGCCCUCAUCACGGCCGUGGGCGUGCGGUUACGCACAGAGGCAAGCAGCUAAGAGUCCGGGAUCCCCAGCCUACUGCCUCUCCAGCACUUCUCUCUUCAAGCGGCGACCCCCUACCCUCCCAGCGAGUUGCGCUGGGAGACGCUGGCGCCAGGGCCUGCCGGCGCGGGGAGGAAAGCAAAAUCCAACUAAUGGUAUAUAUUGUAGGGUACAGAAUAGAGCGUGUGCUGUUGAUAAUAUCUCUCACCCGGAUCCCUCCUCACUUGCCCUGCCACUUUGCAUGGUUUGAUUUUGACCUGGUCCCCCACGUGUGAAGUGUAGUGGCAUCCAUUUCUAAUGUAUGCAUUCAUCCAACAGAGUUAUUUAUUGGCUGGAGAUGGAAAAUCACACCACCUGACAGGCCUUCUGGGCCUCCAAAGCCCAUCCUUGGGGUUCCCCCUCCCUGUGUGAAAUGUAUUAUCACCAGCAGACACUGCCGGGCCUCCCUCCCGGGGGCACUGCCUGAAGGCGAGUGUGGGCAUAGCAUUAGCUGCUUCCUCCCCUCCUGGCACCCACUGUGGCCUGGCAUCGCAUCGUGGUGUGUCAAUGCCACAAAAUCGUGUGUCCGUGGAACCAGUCCUAGCCGCGUGUGACAGUCUUGCAUUCUGUUUGUCUCGUGGGGGGAGGUGGACAGUCCUGCGGAAAUGUGUCUUGUCUCCAUUUGGAUAAAAGGAACCAACCAACAAACAAUGCCAUCACUGGAAUUUCCCACCGCUUUGUGAGCCGUGUCGUAUGACCUAGUAAACUUUGUACCAAUUCAAA\n",
            "ID: <unknown id>\n",
            "Name: <unknown name>\n",
            "Description: <unknown description>\n",
            "Number of features: 0\n",
            "/molecule_type=protein\n",
            "Seq('EEEPPSSRRRTTARQGCGGPTVPTPAAPRPRPPA')\n",
            "ID: <unknown id>\n",
            "Name: <unknown name>\n",
            "Description: <unknown description>\n",
            "Number of features: 0\n",
            "/molecule_type=protein\n",
            "Seq('RRSRRAAAGGPRLARAAEDRPSPRLPPRDPDRQHDRRAAPGLLLHGAEG')\n",
            "ID: <unknown id>\n",
            "Name: <unknown name>\n",
            "Description: <unknown description>\n",
            "Number of features: 0\n",
            "/molecule_type=protein\n",
            "Seq('GGAAEQPPEDHGSPGLRRTDRPHACRPATPTASMIAAQLLAYYFTELKDDQVKK...ASS')\n"
          ]
        },
        {
          "name": "stderr",
          "output_type": "stream",
          "text": [
            "/usr/local/lib/python3.10/dist-packages/Bio/Seq.py:2880: BiopythonWarning: Partial codon, len(sequence) not a multiple of three. Explicitly trim the sequence or add trailing N before translation. This may become an error in future.\n",
            "  warnings.warn(\n"
          ]
        }
      ],
      "source": [
        "print(j)\n",
        "#the transcribe function is used to fetch mrna\n",
        "print(j.seq.transcribe())\n",
        "#the translate function is used translate mrna to protien\n",
        "print(j.translate(to_stop=True))\n",
        "print(j[1:].translate(to_stop=True))\n",
        "print(j[2:].translate(to_stop=True))"
      ]
    },
    {
      "cell_type": "markdown",
      "metadata": {
        "id": "6ZPJo-J1Xvzp"
      },
      "source": [
        "#Practice Exercise: Gene Analysis with Accession Number AB000824.1\n",
        "1) Download the Gene Sequence:\n",
        "Use Biopython to download the gene sequence associated with the accession number AB000824.1 and save it in FASTA format.\n",
        "\n",
        "2)Convert to mRNA:\n",
        "Transcribe the downloaded nucleotide sequence into its corresponding mRNA sequence.\n",
        "\n",
        "3)Translate the Gene to Protein Sequence:\n",
        "Translate the mRNA sequence into a protein sequence. Vary the open reading frame (ORF) to analyze different protein variants.\n",
        "\n",
        "4)Design Primers:\n",
        "Design forward and reverse primers that are 30 nucleotides long for this gene sequence.\n",
        "\n",
        "5)Retrieve Protein ID:\n",
        "From the GenBank file associated with the gene, extract the protein ID and download the corresponding protein sequence.\n",
        "\n",
        "6)Extract Catalytic Domain:\n",
        "Use InterProScan to identify and extract the catalytic domain of the protein.\n",
        "\n",
        "7)Run BLAST on the Domain Sequence:\n",
        "Perform a BLAST analysis on the extracted catalytic domain sequence to find similar sequences.\n",
        "\n",
        "8)Identify Homologous Sequences:\n",
        "Retrieve 5 homologous sequences from different organisms based on the BLAST results.\n",
        "\n",
        "9)Change Accession IDs to Organism Names:\n",
        "Replace the accession IDs of the retrieved sequences with the common names of the respective organisms.\n",
        "\n",
        "10)Perform Multiple Sequence Alignment (MSA):\n",
        "Use Clustal Omega to perform a multiple sequence alignment of the homologous sequences. Interpret the results to identify closely related organisms."
      ]
    },
    {
      "cell_type": "code",
      "execution_count": null,
      "metadata": {
        "id": "MY2sYRMDXuyc"
      },
      "outputs": [],
      "source": []
    }
  ],
  "metadata": {
    "colab": {
      "provenance": []
    },
    "kernelspec": {
      "display_name": "Python 3",
      "name": "python3"
    },
    "language_info": {
      "name": "python"
    }
  },
  "nbformat": 4,
  "nbformat_minor": 0
}